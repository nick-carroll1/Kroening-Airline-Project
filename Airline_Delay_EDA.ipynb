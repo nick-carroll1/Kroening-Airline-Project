{
 "cells": [
  {
   "cell_type": "markdown",
   "metadata": {},
   "source": [
    "#### This is EDA of a Kaggle dataset called \"USA Airline Delay Cause,\" created by user 'RYANJT.'\n",
    "\n",
    "* The last update to this dataset appears to be in August 2022, initial date of publication unknown.\n",
    "\n",
    "* Sources: https://www.transtats.bts.gov/ot_delay/ot_delaycause1.asp?qv52ynB=qn6n&20=E\n",
    "\n",
    "* Collection Methodology: Bureau of Transportation Statistics, Airline Service Quality Performance 234\n",
    "\n",
    "* The dataset covers the date range of 7/01/03 - 5/01/22.\n",
    "\n",
    "* It is available at: https://www.kaggle.com/datasets/ryanjt/airline-delay-cause"
   ]
  },
  {
   "cell_type": "markdown",
   "metadata": {},
   "source": [
    "First, we'll important necessary packages and ingest the .csv file containing the dataset."
   ]
  },
  {
   "cell_type": "code",
   "execution_count": 1,
   "metadata": {},
   "outputs": [
    {
     "ename": "ModuleNotFoundError",
     "evalue": "No module named 'matplotlib'",
     "output_type": "error",
     "traceback": [
      "\u001b[0;31m---------------------------------------------------------------------------\u001b[0m",
      "\u001b[0;31mModuleNotFoundError\u001b[0m                       Traceback (most recent call last)",
      "Cell \u001b[0;32mIn [1], line 4\u001b[0m\n\u001b[1;32m      2\u001b[0m \u001b[38;5;28;01mimport\u001b[39;00m \u001b[38;5;21;01mpandas\u001b[39;00m \u001b[38;5;28;01mas\u001b[39;00m \u001b[38;5;21;01mpd\u001b[39;00m\n\u001b[1;32m      3\u001b[0m \u001b[38;5;28;01mimport\u001b[39;00m \u001b[38;5;21;01mnumpy\u001b[39;00m \u001b[38;5;28;01mas\u001b[39;00m \u001b[38;5;21;01mnp\u001b[39;00m\n\u001b[0;32m----> 4\u001b[0m \u001b[38;5;28;01mimport\u001b[39;00m \u001b[38;5;21;01mmatplotlib\u001b[39;00m \u001b[38;5;28;01mas\u001b[39;00m \u001b[38;5;21;01mplt\u001b[39;00m\n\u001b[1;32m      5\u001b[0m \u001b[38;5;28;01mimport\u001b[39;00m \u001b[38;5;21;01mseaborn\u001b[39;00m \u001b[38;5;28;01mas\u001b[39;00m \u001b[38;5;21;01msns\u001b[39;00m\n\u001b[1;32m      6\u001b[0m \u001b[38;5;28;01mimport\u001b[39;00m \u001b[38;5;21;01mdatetime\u001b[39;00m\n",
      "\u001b[0;31mModuleNotFoundError\u001b[0m: No module named 'matplotlib'"
     ]
    }
   ],
   "source": [
    "# import packages\n",
    "import pandas as pd\n",
    "import numpy as np\n",
    "import matplotlib as plt\n",
    "import seaborn as sns\n",
    "import datetime\n",
    "\n",
    "# Read a .csv in with information about airline delays\n",
    "delay_data = pd.read_csv('datasets/Airline_Delay_Cause.csv')"
   ]
  },
  {
   "cell_type": "markdown",
   "metadata": {},
   "source": [
    "Next, we'll gather basic information about this dataset, to include:\n",
    "* Shape\n",
    "* Head observations\n",
    "* Column information\n",
    "* Missing/null values"
   ]
  },
  {
   "cell_type": "code",
   "execution_count": null,
   "metadata": {},
   "outputs": [],
   "source": [
    "# Shape of delay_data\n",
    "delay_data.shape"
   ]
  },
  {
   "cell_type": "code",
   "execution_count": null,
   "metadata": {},
   "outputs": [],
   "source": [
    "# Visualize basic information about delay_data\n",
    "delay_data.head()"
   ]
  },
  {
   "cell_type": "code",
   "execution_count": null,
   "metadata": {},
   "outputs": [],
   "source": [
    "# Visualize information about the data types in the delay_data DataFrame\n",
    "delay_data.info()"
   ]
  },
  {
   "cell_type": "markdown",
   "metadata": {},
   "source": [
    "Based on 'non-null count' above, there appears to be missing data. We'll investigate this by acquiring counts of 'NA' values and making sure it matches 'NULL' values.\n",
    "\n",
    "Then, we can determine how much of the dataset is missing. It appears to be very minimal..."
   ]
  },
  {
   "cell_type": "code",
   "execution_count": null,
   "metadata": {},
   "outputs": [],
   "source": [
    "# Show missing/null data in each column\n",
    "\n",
    "delay_data.isna().sum()"
   ]
  },
  {
   "cell_type": "code",
   "execution_count": null,
   "metadata": {},
   "outputs": [],
   "source": [
    "# Last, we'll verify that the missing data is being captured correctly by pandas\n",
    "\n",
    "delay_data.isna().sum() == delay_data.isnull().sum()"
   ]
  },
  {
   "cell_type": "markdown",
   "metadata": {},
   "source": [
    "The values match, so now we can determine how much of the dataset is missing.\n",
    "\n",
    "Casually, 'arr_del15' is missing the most values, at 728. That equals less than one-quarter of 1% of all observations. (728/318017)"
   ]
  },
  {
   "cell_type": "code",
   "execution_count": null,
   "metadata": {},
   "outputs": [],
   "source": [
    "# Calculate missing values as a percentage of overall dataset.\n",
    "\n",
    "delay_data.isna().sum() * 100 / len(delay_data)"
   ]
  },
  {
   "cell_type": "markdown",
   "metadata": {},
   "source": [
    "As expected, missing values are a small percentage, we'll drop those and proceed to exploring the remaining data further to determine some relationships."
   ]
  },
  {
   "cell_type": "code",
   "execution_count": null,
   "metadata": {},
   "outputs": [],
   "source": [
    "# drop 'NA' and make a new data frame 'No NA' to capture results. Check shape.\n",
    "# DropNA was also verified, but removed for readability. It was '0' across the board.\n",
    "\n",
    "delay_data_nona = delay_data.dropna()\n",
    "delay_data_nona.shape"
   ]
  },
  {
   "cell_type": "markdown",
   "metadata": {},
   "source": [
    "We are left with 317,289 observations. Let's get some basic information about the distribution of these observations and then seek to determine relationships. Below is an explanation of the columns, courtesy of Kaggle user ' BHAVANA' (https://www.kaggle.com/code/bhavanamaradani/usa-airline-delay-causes).\n",
    "\n",
    "*\"The data contains information of total arrived flights('arr_flights') of different carriers ('carrier_name') in a given month and year at a particular airport ('airport')*\n",
    "\n",
    "*The column (arr_del15) is the total delay caused by five different causes for delay (carrier_ct, weather_ct,nas_ct, security_ct, late_aircraft_ct)*\n",
    "\n",
    "*Similarly,(arr_delay) is the total delay caused by five different causes for delay (carrier_delay, weather_delay, nas_delay, security_delay ,late_aircraft_delay)*\n",
    "\n",
    "*Though the columns 'arr_delay15' and 'arr_delay' convey similar information regarding the causes for delay. But, there is no clear infomation regarding the values and how they are connected.*\n",
    "\n",
    "*Since, it is given that the delay information is in minutes for delayed flights alone. My analysis is based on assumption that column 'arr_delay' is the total delay (in minutes) of a particular carrier in a given month and airport.\"*"
   ]
  },
  {
   "cell_type": "code",
   "execution_count": null,
   "metadata": {},
   "outputs": [],
   "source": [
    "# Plot the total observations by year\n",
    "\n",
    "sns.lineplot(data=delay_data_nona, x='year', y='arr_del15', errorbar=None)"
   ]
  },
  {
   "cell_type": "code",
   "execution_count": null,
   "metadata": {},
   "outputs": [],
   "source": [
    "# Now let's look at month\n",
    "\n",
    "sns.lineplot(data=delay_data_nona, x='month', y='arr_del15', errorbar=None)"
   ]
  },
  {
   "cell_type": "markdown",
   "metadata": {},
   "source": [
    "As one would expect, the amount of delays increases significantly during summer months and around the holiday season. There is also a noticeable dip in the year 2020 (expected).\n",
    "\n",
    "Next, we'll do some analysis to find possible linkages or relationships. I'll truncate this area."
   ]
  },
  {
   "cell_type": "code",
   "execution_count": null,
   "metadata": {},
   "outputs": [],
   "source": []
  },
  {
   "cell_type": "code",
   "execution_count": null,
   "metadata": {},
   "outputs": [],
   "source": []
  },
  {
   "cell_type": "code",
   "execution_count": null,
   "metadata": {},
   "outputs": [],
   "source": []
  }
 ],
 "metadata": {
  "kernelspec": {
   "display_name": "Python 3.10.6 64-bit",
   "language": "python",
   "name": "python3"
  },
  "language_info": {
   "codemirror_mode": {
    "name": "ipython",
    "version": 3
   },
   "file_extension": ".py",
   "mimetype": "text/x-python",
   "name": "python",
   "nbconvert_exporter": "python",
   "pygments_lexer": "ipython3",
   "version": "3.10.6"
  },
  "orig_nbformat": 4,
  "vscode": {
   "interpreter": {
    "hash": "949777d72b0d2535278d3dc13498b2535136f6dfe0678499012e853ee9abcab1"
   }
  }
 },
 "nbformat": 4,
 "nbformat_minor": 2
}
